{
  "nbformat": 4,
  "nbformat_minor": 0,
  "metadata": {
    "colab": {
      "provenance": [],
      "authorship_tag": "ABX9TyNGzeYTCai3R1blxkAgYTLs",
      "include_colab_link": true
    },
    "kernelspec": {
      "name": "python3",
      "display_name": "Python 3"
    },
    "language_info": {
      "name": "python"
    }
  },
  "cells": [
    {
      "cell_type": "markdown",
      "metadata": {
        "id": "view-in-github",
        "colab_type": "text"
      },
      "source": [
        "<a href=\"https://colab.research.google.com/github/OfficialEseosa/Monte-Carlo-Simulation/blob/main/MATH_3030_Computer_Project.ipynb\" target=\"_parent\"><img src=\"https://colab.research.google.com/assets/colab-badge.svg\" alt=\"Open In Colab\"/></a>"
      ]
    },
    {
      "cell_type": "code",
      "execution_count": 2,
      "metadata": {
        "colab": {
          "base_uri": "https://localhost:8080/"
        },
        "id": "BgPRJ37-7NdW",
        "outputId": "4e656648-c6df-4526-ca6b-f66d26ee4cc7"
      },
      "outputs": [
        {
          "output_type": "stream",
          "name": "stdout",
          "text": [
            "Solution after 100000 simulations: \n",
            "Expected number of days to clean the system: 1.03952\n",
            "Probability that each computer gets infected at least once: 2e-05\n",
            "Expected number of computers that get infected: 2.97339\n"
          ]
        }
      ],
      "source": [
        "# Import the random variable which we will use for this simulation\n",
        "import random\n",
        "import statistics\n",
        "\n",
        "# Create a Computer class which we will use to create Computer objects with an infected attribute\n",
        "# This attribute will let us know whether a Computer is infected or not\n",
        "class Computer:\n",
        "    def __init__(self):\n",
        "        self.infected = False\n",
        "\n",
        "days = []\n",
        "no_of_computers_infected = []\n",
        "each_infected_once = []\n",
        "nsim = 100000\n",
        "\n",
        "for i in range(nsim):\n",
        "    # Create two lists to store the non-infected and infected variables\n",
        "    not_infected = []\n",
        "    infected = []\n",
        "    contaminated = set()\n",
        "\n",
        "    # Create 20 Computer objects\n",
        "    for i in range(20):\n",
        "        not_infected.append(Computer())\n",
        "\n",
        "    # Choose a random computer and infect it with the virus to start the simulation\n",
        "    virus_computer = random.choice(not_infected)\n",
        "    virus_computer.infected = True\n",
        "    infected.append(virus_computer)\n",
        "    not_infected.remove(virus_computer)\n",
        "    contaminated.add(virus_computer)\n",
        "\n",
        "    # This happens on day 0\n",
        "    day = 0\n",
        "\n",
        "    # Continue while infected computers exists in the system\n",
        "    while infected:\n",
        "        # Increment the day by 1 each time and have a set of the newly infected computers\n",
        "        day += 1\n",
        "        curr_infected = set()\n",
        "\n",
        "        # For each infected computer, infect each clean computer with a probability of 0.1\n",
        "        for infected_comp in infected:\n",
        "            for clean_comp in not_infected:\n",
        "                if not clean_comp.infected:\n",
        "                    prob = random.random()\n",
        "                    if prob <= 0.1:\n",
        "                        clean_comp.infected = True\n",
        "                        curr_infected.add(clean_comp)\n",
        "                        contaminated.add(clean_comp)\n",
        "        for comp in curr_infected:\n",
        "            infected.append(comp)\n",
        "            not_infected.remove(comp)\n",
        "        # Choose all the infected computers if they are less than 5 or choose 5 randomly infected computers\n",
        "        if len(infected) <= 5:\n",
        "            tech_choice = infected.copy()\n",
        "        else:\n",
        "            tech_choice = random.sample(infected, 5)\n",
        "\n",
        "        # Remove the cleaned computers from the infected ones\n",
        "        infected = [computer for computer in infected if computer not in tech_choice]\n",
        "        not_infected.extend(tech_choice)\n",
        "    days.append(day)\n",
        "    no_of_computers_infected.append(len(contaminated))\n",
        "    if len(contaminated) == 20:\n",
        "        each_infected_once.append(1)\n",
        "    else:\n",
        "        each_infected_once.append(0)\n",
        "\n",
        "\n",
        "print(f\"Solution after {nsim} simulations: \")\n",
        "print(f'Expected number of days to clean the system: {statistics.mean(days)}')\n",
        "print(f'Probability that each computer gets infected at least once: {statistics.mean(each_infected_once)}')\n",
        "print(f'Expected number of computers that get infected: {statistics.mean(no_of_computers_infected)}')"
      ]
    }
  ]
}